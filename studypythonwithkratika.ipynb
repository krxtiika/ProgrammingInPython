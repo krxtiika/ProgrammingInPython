{
  "nbformat": 4,
  "nbformat_minor": 0,
  "metadata": {
    "colab": {
      "provenance": [],
      "authorship_tag": "ABX9TyMFnfj4WvzVnG+/TqucXn0j",
      "include_colab_link": true
    },
    "kernelspec": {
      "name": "python3",
      "display_name": "Python 3"
    },
    "language_info": {
      "name": "python"
    }
  },
  "cells": [
    {
      "cell_type": "markdown",
      "metadata": {
        "id": "view-in-github",
        "colab_type": "text"
      },
      "source": [
        "<a href=\"https://colab.research.google.com/github/krxtiika/ProgrammingInPython/blob/main/studypythonwithkratika.ipynb\" target=\"_parent\"><img src=\"https://colab.research.google.com/assets/colab-badge.svg\" alt=\"Open In Colab\"/></a>"
      ]
    },
    {
      "cell_type": "markdown",
      "source": [
        "# ***100 Days of Code***"
      ],
      "metadata": {
        "id": "rm9Hd-PXWEQp"
      }
    },
    {
      "cell_type": "markdown",
      "source": [
        "# **DAY-1**\n",
        "********************************************************************************\n",
        "\n",
        "*What is Programming?*\n",
        "\n",
        " Programming is the process of designing and building instructions for computers to execute tasks. It involves writing code using specific languages that computers can understand and execute. Programmers use programming languages like Python, Java, C++, and many others to create software, applications, websites, and other digital tools.\n",
        "********************************************************************************\n",
        "\n",
        " *What is Python?*\n",
        "\n",
        "\n",
        "*   Python is a dynamically typed, general purpose programming language that supports an object-oriented programming approach as well as a functional approach.\n",
        "*   Python is an interpreted and a high-level programming language.\n",
        "\n",
        "*   It was created by Guido Van Rossum in 1989.\n",
        "********************************************************************************\n",
        "\n",
        "*Features of Python*\n",
        "\n",
        "\n",
        "*   Python is simple and easy to understand.\n",
        "*   It is interpreted & platform-independent which makes debugging very easy.\n",
        "*   Python is an open-source programming language.\n",
        "*   Python provides very big library support. Some of the popular libraries include NumPy, Tensorflow, Selenium, OpenCV, etc.\n",
        "*   It is possible to integrate other programming languages within python.\n",
        "********************************************************************************\n",
        "\n",
        "*What is Python used for?*\n",
        "\n",
        "*   It is used in Data Visualization to create plots & graphical representations.\n",
        "*   It is used in Data Science, Machine Learning, AI,etc.\n",
        "*   It is used to create web applications.\n",
        "*   It is used to handle databases.\n",
        "*   It is used in business and accounting to perform complex mathematical operations.\n",
        "********************************************************************************\n",
        "Let's Get Started.... <3\n"
      ],
      "metadata": {
        "id": "J2c9Jf5rWLO3"
      }
    },
    {
      "cell_type": "markdown",
      "source": [
        "***The Print Statement:***\n",
        "\n",
        "The print statement is used to display information to the console or terminal. It's primary purpose is to output text or other data onto the screen."
      ],
      "metadata": {
        "id": "-huGSNRTdvir"
      }
    },
    {
      "cell_type": "code",
      "execution_count": null,
      "metadata": {
        "colab": {
          "base_uri": "https://localhost:8080/"
        },
        "id": "2h-jrpX9WDGJ",
        "outputId": "7b1f8ba7-1369-4819-c18b-78220c709d46"
      },
      "outputs": [
        {
          "output_type": "stream",
          "name": "stdout",
          "text": [
            "Hello, I am Kratika.\n",
            "*\n",
            "**\n",
            "***\n",
            "****\n",
            "*****\n",
            "Hello India Hello World\n"
          ]
        }
      ],
      "source": [
        "#first example\n",
        "print(\"Hello, I am Kratika.\")\n",
        "\n",
        "#second example\n",
        "print(\"*\")\n",
        "print(\"**\")\n",
        "print(\"***\")\n",
        "print(\"****\")\n",
        "print(\"*****\")\n",
        "\n",
        "#third example\n",
        "print(\"Hello India\", \"Hello World\")\n",
        "\n",
        "#note that while using the print statement, the order is considered important that is, the first message get's printes first and the second message get's printed second."
      ]
    },
    {
      "cell_type": "markdown",
      "source": [
        "***Keep in mind***\n",
        "\n",
        "(),{},[] Here each brackett has a specific meaning. We must use () bracketts while using the print statement.\n",
        "\n",
        "' ' or \" \" Python is flexible when it comes to quotes."
      ],
      "metadata": {
        "id": "qPKdOAUeftqn"
      }
    },
    {
      "cell_type": "code",
      "source": [
        "print(10)\n",
        "print(20.5)\n",
        "a=10\n",
        "print(a)\n",
        "b=20\n",
        "print(b)\n",
        "print(a+b)\n",
        "print(a*b)\n",
        "print(a-b)\n",
        "print(a/b)\n",
        "\n",
        "#Let's see what happens when we increment the value of a\n",
        "a=a+1\n",
        "print(a)\n",
        "a=a+1\n",
        "print(a)\n",
        "a=a+1\n",
        "print(a)"
      ],
      "metadata": {
        "colab": {
          "base_uri": "https://localhost:8080/"
        },
        "id": "7B5ECPowgpFI",
        "outputId": "36c71a36-3c89-413e-f7ea-0554253a6f34"
      },
      "execution_count": null,
      "outputs": [
        {
          "output_type": "stream",
          "name": "stdout",
          "text": [
            "10\n",
            "20.5\n",
            "10\n",
            "20\n",
            "30\n",
            "200\n",
            "-10\n",
            "0.5\n",
            "11\n",
            "12\n",
            "13\n"
          ]
        }
      ]
    },
    {
      "cell_type": "markdown",
      "source": [
        "***The Input Statement***\n",
        "\n",
        "In Python, the input function is used to accept user input from the keyboard. It allows the program to pause execution and wait for the user to enter some text, which is then read and returned as a string."
      ],
      "metadata": {
        "id": "6TGjunAIiI0e"
      }
    },
    {
      "cell_type": "code",
      "source": [
        "print(\"Enter a number:\")\n",
        "n=int(input())\n",
        "print(n)\n",
        "print(n+1)\n",
        "print(n+2)\n",
        "print(n+3)"
      ],
      "metadata": {
        "colab": {
          "base_uri": "https://localhost:8080/"
        },
        "id": "L6lsJSHTigSU",
        "outputId": "4c6569ec-3cd7-4108-9fda-d13fee363bbf"
      },
      "execution_count": null,
      "outputs": [
        {
          "output_type": "stream",
          "name": "stdout",
          "text": [
            "Enter a number:\n",
            "100\n",
            "100\n",
            "101\n",
            "102\n",
            "103\n"
          ]
        }
      ]
    },
    {
      "cell_type": "code",
      "source": [
        "print(\"Hello, What's your name?\")\n",
        "n=str(input())\n",
        "print(\"Which place are you in?\")\n",
        "p=str(input())\n",
        "print(\"Hello\",n,\"How is the weather in\",p,\"?\")\n",
        "\n",
        "#notice that there's an extra space between p and ?"
      ],
      "metadata": {
        "colab": {
          "base_uri": "https://localhost:8080/"
        },
        "id": "bmbwexfCi5-F",
        "outputId": "ba7074b1-f4dc-40fe-85ae-668d4e7cb46e"
      },
      "execution_count": null,
      "outputs": [
        {
          "output_type": "stream",
          "name": "stdout",
          "text": [
            "Hello, What's your name?\n",
            "Kratika\n",
            "Which place are you in?\n",
            "Delhi\n",
            "Hello Kratika How is the weather in Delhi ?\n"
          ]
        }
      ]
    },
    {
      "cell_type": "markdown",
      "source": [
        "***Merging Input & Output***\n",
        "\n",
        "In the example given below,n, p and age are the variables.\n",
        "\n",
        "***Variables***\n",
        "\n",
        "Variables are nothing but container where we can store values of different data types.\n",
        "\n",
        "***Literals***\n",
        "\n",
        "Literals are the actual values that are stored inside the variables. They are also known as the Constants and their values cannot be changed.\n",
        "\n",
        "Variables can be used on either side of the symbol equal to."
      ],
      "metadata": {
        "id": "Jr68Spzqj1lr"
      }
    },
    {
      "cell_type": "code",
      "source": [
        "n= str(input(\"Type your name:\"))\n",
        "p=str(input(\"Type your location:\"))\n",
        "print('Hello',n,'How is the weather in',p,'?')\n",
        "age=int(input(\"Type in your age:\"))\n",
        "print(\"Good to know that you are\",age,\"years old.\")"
      ],
      "metadata": {
        "colab": {
          "base_uri": "https://localhost:8080/"
        },
        "id": "8bqSAlJskcYr",
        "outputId": "57f95e21-28cd-40db-b59d-3329bd8c7394"
      },
      "execution_count": null,
      "outputs": [
        {
          "output_type": "stream",
          "name": "stdout",
          "text": [
            "Type your name:Kratika\n",
            "Type your location:Delhi\n",
            "Hello Kratika How is the weather in Delhi ?\n",
            "Type in your age:21\n",
            "Good to know that you are 21 years old.\n"
          ]
        }
      ]
    },
    {
      "cell_type": "code",
      "source": [
        "first_name=\"Kratika\"\n",
        "last_name=\"Tomar\"\n",
        "age=21\n",
        "print(first_name,last_name,age)\n",
        "\n",
        "#In this case the first_name, last_name or the age are referred as variables whereas Kratika, Tomar and 21 are the literals."
      ],
      "metadata": {
        "colab": {
          "base_uri": "https://localhost:8080/"
        },
        "id": "f1_FFHq1ltIv",
        "outputId": "a5ce8b2c-b6a8-420f-a2f3-56cbc8ba760d"
      },
      "execution_count": null,
      "outputs": [
        {
          "output_type": "stream",
          "name": "stdout",
          "text": [
            "Kratika Tomar 21\n"
          ]
        }
      ]
    },
    {
      "cell_type": "code",
      "source": [
        "r=int(input(\"Enter the radius of the circle:\"))\n",
        "area=3.14*r*r\n",
        "print(\"The area of the circle with the radius\",r,\"is\",area)"
      ],
      "metadata": {
        "colab": {
          "base_uri": "https://localhost:8080/"
        },
        "id": "q5Khze7BmfDp",
        "outputId": "18fbd678-b00a-4268-9f3c-fc0bb9461367"
      },
      "execution_count": null,
      "outputs": [
        {
          "output_type": "stream",
          "name": "stdout",
          "text": [
            "Enter the radius of the circle:2\n",
            "The area of the circle with the radius 2 is 12.56\n"
          ]
        }
      ]
    },
    {
      "cell_type": "markdown",
      "source": [
        "***When to use a Variable and a Literal?***\n",
        "\n",
        "r & area are used as the variables but the value of pi is literal, irrespective of the radius of the area the value of pi is always 3.14."
      ],
      "metadata": {
        "id": "QB2AbTo3m2g3"
      }
    }
  ]
}